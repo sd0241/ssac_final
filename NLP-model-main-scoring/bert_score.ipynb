{
  "nbformat": 4,
  "nbformat_minor": 0,
  "metadata": {
    "colab": {
      "name": "bert_score.ipynb",
      "provenance": [],
      "collapsed_sections": [],
      "machine_shape": "hm"
    },
    "kernelspec": {
      "name": "python3",
      "display_name": "Python 3"
    },
    "language_info": {
      "name": "python"
    },
    "accelerator": "GPU"
  },
  "cells": [
    {
      "cell_type": "markdown",
      "metadata": {
        "id": "IDUAfMEjySgZ"
      },
      "source": [
        "코드 출처\n",
        "\n",
        "https://github.com/Tiiiger/bert_score"
      ]
    },
    {
      "cell_type": "code",
      "metadata": {
        "colab": {
          "base_uri": "https://localhost:8080/"
        },
        "id": "FtZYwtMcyOxU",
        "outputId": "8a4343f1-3bef-45b7-e264-a16199caea09"
      },
      "source": [
        "!pip install bert-score"
      ],
      "execution_count": 1,
      "outputs": [
        {
          "output_type": "stream",
          "name": "stdout",
          "text": [
            "Collecting bert-score\n",
            "  Downloading bert_score-0.3.10-py3-none-any.whl (59 kB)\n",
            "\u001b[?25l\r\u001b[K     |█████▌                          | 10 kB 33.1 MB/s eta 0:00:01\r\u001b[K     |███████████                     | 20 kB 16.9 MB/s eta 0:00:01\r\u001b[K     |████████████████▍               | 30 kB 10.3 MB/s eta 0:00:01\r\u001b[K     |██████████████████████          | 40 kB 8.8 MB/s eta 0:00:01\r\u001b[K     |███████████████████████████▍    | 51 kB 4.7 MB/s eta 0:00:01\r\u001b[K     |████████████████████████████████| 59 kB 3.2 MB/s \n",
            "\u001b[?25hRequirement already satisfied: requests in /usr/local/lib/python3.7/dist-packages (from bert-score) (2.23.0)\n",
            "Requirement already satisfied: tqdm>=4.31.1 in /usr/local/lib/python3.7/dist-packages (from bert-score) (4.62.3)\n",
            "Requirement already satisfied: matplotlib in /usr/local/lib/python3.7/dist-packages (from bert-score) (3.2.2)\n",
            "Requirement already satisfied: torch>=1.0.0 in /usr/local/lib/python3.7/dist-packages (from bert-score) (1.10.0+cu111)\n",
            "Requirement already satisfied: pandas>=1.0.1 in /usr/local/lib/python3.7/dist-packages (from bert-score) (1.1.5)\n",
            "Collecting transformers>=3.0.0numpy\n",
            "  Downloading transformers-4.12.5-py3-none-any.whl (3.1 MB)\n",
            "\u001b[K     |████████████████████████████████| 3.1 MB 10.7 MB/s \n",
            "\u001b[?25hRequirement already satisfied: packaging>=20.9 in /usr/local/lib/python3.7/dist-packages (from bert-score) (21.3)\n",
            "Requirement already satisfied: pyparsing!=3.0.5,>=2.0.2 in /usr/local/lib/python3.7/dist-packages (from packaging>=20.9->bert-score) (3.0.6)\n",
            "Requirement already satisfied: pytz>=2017.2 in /usr/local/lib/python3.7/dist-packages (from pandas>=1.0.1->bert-score) (2018.9)\n",
            "Requirement already satisfied: numpy>=1.15.4 in /usr/local/lib/python3.7/dist-packages (from pandas>=1.0.1->bert-score) (1.19.5)\n",
            "Requirement already satisfied: python-dateutil>=2.7.3 in /usr/local/lib/python3.7/dist-packages (from pandas>=1.0.1->bert-score) (2.8.2)\n",
            "Requirement already satisfied: six>=1.5 in /usr/local/lib/python3.7/dist-packages (from python-dateutil>=2.7.3->pandas>=1.0.1->bert-score) (1.15.0)\n",
            "Requirement already satisfied: typing-extensions in /usr/local/lib/python3.7/dist-packages (from torch>=1.0.0->bert-score) (3.10.0.2)\n",
            "Requirement already satisfied: importlib-metadata in /usr/local/lib/python3.7/dist-packages (from transformers>=3.0.0numpy->bert-score) (4.8.2)\n",
            "Collecting tokenizers<0.11,>=0.10.1\n",
            "  Downloading tokenizers-0.10.3-cp37-cp37m-manylinux_2_5_x86_64.manylinux1_x86_64.manylinux_2_12_x86_64.manylinux2010_x86_64.whl (3.3 MB)\n",
            "\u001b[K     |████████████████████████████████| 3.3 MB 49.0 MB/s \n",
            "\u001b[?25hRequirement already satisfied: regex!=2019.12.17 in /usr/local/lib/python3.7/dist-packages (from transformers>=3.0.0numpy->bert-score) (2019.12.20)\n",
            "Collecting sacremoses\n",
            "  Downloading sacremoses-0.0.46-py3-none-any.whl (895 kB)\n",
            "\u001b[K     |████████████████████████████████| 895 kB 58.5 MB/s \n",
            "\u001b[?25hCollecting huggingface-hub<1.0,>=0.1.0\n",
            "  Downloading huggingface_hub-0.1.2-py3-none-any.whl (59 kB)\n",
            "\u001b[K     |████████████████████████████████| 59 kB 5.7 MB/s \n",
            "\u001b[?25hRequirement already satisfied: filelock in /usr/local/lib/python3.7/dist-packages (from transformers>=3.0.0numpy->bert-score) (3.4.0)\n",
            "Collecting pyyaml>=5.1\n",
            "  Downloading PyYAML-6.0-cp37-cp37m-manylinux_2_5_x86_64.manylinux1_x86_64.manylinux_2_12_x86_64.manylinux2010_x86_64.whl (596 kB)\n",
            "\u001b[K     |████████████████████████████████| 596 kB 58.0 MB/s \n",
            "\u001b[?25hRequirement already satisfied: zipp>=0.5 in /usr/local/lib/python3.7/dist-packages (from importlib-metadata->transformers>=3.0.0numpy->bert-score) (3.6.0)\n",
            "Requirement already satisfied: kiwisolver>=1.0.1 in /usr/local/lib/python3.7/dist-packages (from matplotlib->bert-score) (1.3.2)\n",
            "Requirement already satisfied: cycler>=0.10 in /usr/local/lib/python3.7/dist-packages (from matplotlib->bert-score) (0.11.0)\n",
            "Requirement already satisfied: idna<3,>=2.5 in /usr/local/lib/python3.7/dist-packages (from requests->bert-score) (2.10)\n",
            "Requirement already satisfied: urllib3!=1.25.0,!=1.25.1,<1.26,>=1.21.1 in /usr/local/lib/python3.7/dist-packages (from requests->bert-score) (1.24.3)\n",
            "Requirement already satisfied: chardet<4,>=3.0.2 in /usr/local/lib/python3.7/dist-packages (from requests->bert-score) (3.0.4)\n",
            "Requirement already satisfied: certifi>=2017.4.17 in /usr/local/lib/python3.7/dist-packages (from requests->bert-score) (2021.10.8)\n",
            "Requirement already satisfied: joblib in /usr/local/lib/python3.7/dist-packages (from sacremoses->transformers>=3.0.0numpy->bert-score) (1.1.0)\n",
            "Requirement already satisfied: click in /usr/local/lib/python3.7/dist-packages (from sacremoses->transformers>=3.0.0numpy->bert-score) (7.1.2)\n",
            "Installing collected packages: pyyaml, tokenizers, sacremoses, huggingface-hub, transformers, bert-score\n",
            "  Attempting uninstall: pyyaml\n",
            "    Found existing installation: PyYAML 3.13\n",
            "    Uninstalling PyYAML-3.13:\n",
            "      Successfully uninstalled PyYAML-3.13\n",
            "Successfully installed bert-score-0.3.10 huggingface-hub-0.1.2 pyyaml-6.0 sacremoses-0.0.46 tokenizers-0.10.3 transformers-4.12.5\n"
          ]
        }
      ]
    },
    {
      "cell_type": "code",
      "metadata": {
        "colab": {
          "base_uri": "https://localhost:8080/"
        },
        "id": "0LTETL5Oyl7D",
        "outputId": "71c8a5cc-bb8b-4f2a-c717-bc26197c9878"
      },
      "source": [
        "!git clone https://github.com/Tiiiger/bert_score.git"
      ],
      "execution_count": 2,
      "outputs": [
        {
          "output_type": "stream",
          "name": "stdout",
          "text": [
            "Cloning into 'bert_score'...\n",
            "remote: Enumerating objects: 857, done.\u001b[K\n",
            "remote: Counting objects: 100% (219/219), done.\u001b[K\n",
            "remote: Compressing objects: 100% (146/146), done.\u001b[K\n",
            "remote: Total 857 (delta 128), reused 149 (delta 73), pack-reused 638\u001b[K\n",
            "Receiving objects: 100% (857/857), 1.32 MiB | 16.89 MiB/s, done.\n",
            "Resolving deltas: 100% (443/443), done.\n"
          ]
        }
      ]
    },
    {
      "cell_type": "code",
      "metadata": {
        "colab": {
          "base_uri": "https://localhost:8080/"
        },
        "id": "MueQMCNbyqmk",
        "outputId": "20311122-5df1-4f2f-9b93-697e44571585"
      },
      "source": [
        "%cd bert_score/"
      ],
      "execution_count": 3,
      "outputs": [
        {
          "output_type": "stream",
          "name": "stdout",
          "text": [
            "/content/bert_score\n"
          ]
        }
      ]
    },
    {
      "cell_type": "code",
      "metadata": {
        "colab": {
          "base_uri": "https://localhost:8080/"
        },
        "id": "fWZ-mynY5tXr",
        "outputId": "5ef6a4e6-1d64-4d90-db0f-5ab6b16ec746"
      },
      "source": [
        "!pip install ."
      ],
      "execution_count": 37,
      "outputs": [
        {
          "output_type": "stream",
          "name": "stdout",
          "text": [
            "Processing /content/bert_score\n",
            "\u001b[33m  DEPRECATION: A future pip version will change local packages to be built in-place without first copying to a temporary directory. We recommend you use --use-feature=in-tree-build to test your packages with this new behavior before it becomes the default.\n",
            "   pip 21.3 will remove support for this functionality. You can find discussion regarding this at https://github.com/pypa/pip/issues/7555.\u001b[0m\n",
            "Requirement already satisfied: torch>=1.0.0 in /usr/local/lib/python3.7/dist-packages (from bert-score==0.3.10) (1.10.0+cu111)\n",
            "Requirement already satisfied: pandas>=1.0.1 in /usr/local/lib/python3.7/dist-packages (from bert-score==0.3.10) (1.1.5)\n",
            "Requirement already satisfied: transformers>=3.0.0numpy in /usr/local/lib/python3.7/dist-packages (from bert-score==0.3.10) (4.12.5)\n",
            "Requirement already satisfied: requests in /usr/local/lib/python3.7/dist-packages (from bert-score==0.3.10) (2.23.0)\n",
            "Requirement already satisfied: tqdm>=4.31.1 in /usr/local/lib/python3.7/dist-packages (from bert-score==0.3.10) (4.62.3)\n",
            "Requirement already satisfied: matplotlib in /usr/local/lib/python3.7/dist-packages (from bert-score==0.3.10) (3.2.2)\n",
            "Requirement already satisfied: packaging>=20.9 in /usr/local/lib/python3.7/dist-packages (from bert-score==0.3.10) (21.3)\n",
            "Requirement already satisfied: pyparsing!=3.0.5,>=2.0.2 in /usr/local/lib/python3.7/dist-packages (from packaging>=20.9->bert-score==0.3.10) (3.0.6)\n",
            "Requirement already satisfied: pytz>=2017.2 in /usr/local/lib/python3.7/dist-packages (from pandas>=1.0.1->bert-score==0.3.10) (2018.9)\n",
            "Requirement already satisfied: numpy>=1.15.4 in /usr/local/lib/python3.7/dist-packages (from pandas>=1.0.1->bert-score==0.3.10) (1.19.5)\n",
            "Requirement already satisfied: python-dateutil>=2.7.3 in /usr/local/lib/python3.7/dist-packages (from pandas>=1.0.1->bert-score==0.3.10) (2.8.2)\n",
            "Requirement already satisfied: six>=1.5 in /usr/local/lib/python3.7/dist-packages (from python-dateutil>=2.7.3->pandas>=1.0.1->bert-score==0.3.10) (1.15.0)\n",
            "Requirement already satisfied: typing-extensions in /usr/local/lib/python3.7/dist-packages (from torch>=1.0.0->bert-score==0.3.10) (3.10.0.2)\n",
            "Requirement already satisfied: sacremoses in /usr/local/lib/python3.7/dist-packages (from transformers>=3.0.0numpy->bert-score==0.3.10) (0.0.46)\n",
            "Requirement already satisfied: tokenizers<0.11,>=0.10.1 in /usr/local/lib/python3.7/dist-packages (from transformers>=3.0.0numpy->bert-score==0.3.10) (0.10.3)\n",
            "Requirement already satisfied: importlib-metadata in /usr/local/lib/python3.7/dist-packages (from transformers>=3.0.0numpy->bert-score==0.3.10) (4.8.2)\n",
            "Requirement already satisfied: huggingface-hub<1.0,>=0.1.0 in /usr/local/lib/python3.7/dist-packages (from transformers>=3.0.0numpy->bert-score==0.3.10) (0.1.2)\n",
            "Requirement already satisfied: filelock in /usr/local/lib/python3.7/dist-packages (from transformers>=3.0.0numpy->bert-score==0.3.10) (3.4.0)\n",
            "Requirement already satisfied: pyyaml>=5.1 in /usr/local/lib/python3.7/dist-packages (from transformers>=3.0.0numpy->bert-score==0.3.10) (6.0)\n",
            "Requirement already satisfied: regex!=2019.12.17 in /usr/local/lib/python3.7/dist-packages (from transformers>=3.0.0numpy->bert-score==0.3.10) (2019.12.20)\n",
            "Requirement already satisfied: zipp>=0.5 in /usr/local/lib/python3.7/dist-packages (from importlib-metadata->transformers>=3.0.0numpy->bert-score==0.3.10) (3.6.0)\n",
            "Requirement already satisfied: kiwisolver>=1.0.1 in /usr/local/lib/python3.7/dist-packages (from matplotlib->bert-score==0.3.10) (1.3.2)\n",
            "Requirement already satisfied: cycler>=0.10 in /usr/local/lib/python3.7/dist-packages (from matplotlib->bert-score==0.3.10) (0.11.0)\n",
            "Requirement already satisfied: urllib3!=1.25.0,!=1.25.1,<1.26,>=1.21.1 in /usr/local/lib/python3.7/dist-packages (from requests->bert-score==0.3.10) (1.24.3)\n",
            "Requirement already satisfied: chardet<4,>=3.0.2 in /usr/local/lib/python3.7/dist-packages (from requests->bert-score==0.3.10) (3.0.4)\n",
            "Requirement already satisfied: certifi>=2017.4.17 in /usr/local/lib/python3.7/dist-packages (from requests->bert-score==0.3.10) (2021.10.8)\n",
            "Requirement already satisfied: idna<3,>=2.5 in /usr/local/lib/python3.7/dist-packages (from requests->bert-score==0.3.10) (2.10)\n",
            "Requirement already satisfied: joblib in /usr/local/lib/python3.7/dist-packages (from sacremoses->transformers>=3.0.0numpy->bert-score==0.3.10) (1.1.0)\n",
            "Requirement already satisfied: click in /usr/local/lib/python3.7/dist-packages (from sacremoses->transformers>=3.0.0numpy->bert-score==0.3.10) (7.1.2)\n",
            "Building wheels for collected packages: bert-score\n",
            "  Building wheel for bert-score (setup.py) ... \u001b[?25l\u001b[?25hdone\n",
            "  Created wheel for bert-score: filename=bert_score-0.3.10-py3-none-any.whl size=59894 sha256=c55c54fa6868d80d2eea1167da0c90b255b35f00b8e517bae915e9d6f6454feb\n",
            "  Stored in directory: /tmp/pip-ephem-wheel-cache-eefx_lqv/wheels/a7/12/f8/8da4f6ac6ff005e9a0202402458a4b37dc94d267cd0624459d\n",
            "Successfully built bert-score\n",
            "Installing collected packages: bert-score\n",
            "  Attempting uninstall: bert-score\n",
            "    Found existing installation: bert-score 0.3.10\n",
            "    Uninstalling bert-score-0.3.10:\n",
            "      Successfully uninstalled bert-score-0.3.10\n",
            "Successfully installed bert-score-0.3.10\n"
          ]
        }
      ]
    },
    {
      "cell_type": "code",
      "metadata": {
        "colab": {
          "base_uri": "https://localhost:8080/"
        },
        "id": "C8k561cG2zI_",
        "outputId": "ecec119f-278a-4380-94b8-af3841d5f18d"
      },
      "source": [
        "!pip install sentencepiece"
      ],
      "execution_count": 23,
      "outputs": [
        {
          "output_type": "stream",
          "name": "stdout",
          "text": [
            "Collecting sentencepiece\n",
            "  Downloading sentencepiece-0.1.96-cp37-cp37m-manylinux_2_17_x86_64.manylinux2014_x86_64.whl (1.2 MB)\n",
            "\u001b[?25l\r\u001b[K     |▎                               | 10 kB 33.0 MB/s eta 0:00:01\r\u001b[K     |▌                               | 20 kB 22.9 MB/s eta 0:00:01\r\u001b[K     |▉                               | 30 kB 11.4 MB/s eta 0:00:01\r\u001b[K     |█                               | 40 kB 8.8 MB/s eta 0:00:01\r\u001b[K     |█▍                              | 51 kB 5.1 MB/s eta 0:00:01\r\u001b[K     |█▋                              | 61 kB 5.6 MB/s eta 0:00:01\r\u001b[K     |██                              | 71 kB 5.4 MB/s eta 0:00:01\r\u001b[K     |██▏                             | 81 kB 6.1 MB/s eta 0:00:01\r\u001b[K     |██▍                             | 92 kB 4.7 MB/s eta 0:00:01\r\u001b[K     |██▊                             | 102 kB 5.0 MB/s eta 0:00:01\r\u001b[K     |███                             | 112 kB 5.0 MB/s eta 0:00:01\r\u001b[K     |███▎                            | 122 kB 5.0 MB/s eta 0:00:01\r\u001b[K     |███▌                            | 133 kB 5.0 MB/s eta 0:00:01\r\u001b[K     |███▉                            | 143 kB 5.0 MB/s eta 0:00:01\r\u001b[K     |████                            | 153 kB 5.0 MB/s eta 0:00:01\r\u001b[K     |████▎                           | 163 kB 5.0 MB/s eta 0:00:01\r\u001b[K     |████▋                           | 174 kB 5.0 MB/s eta 0:00:01\r\u001b[K     |████▉                           | 184 kB 5.0 MB/s eta 0:00:01\r\u001b[K     |█████▏                          | 194 kB 5.0 MB/s eta 0:00:01\r\u001b[K     |█████▍                          | 204 kB 5.0 MB/s eta 0:00:01\r\u001b[K     |█████▊                          | 215 kB 5.0 MB/s eta 0:00:01\r\u001b[K     |██████                          | 225 kB 5.0 MB/s eta 0:00:01\r\u001b[K     |██████▏                         | 235 kB 5.0 MB/s eta 0:00:01\r\u001b[K     |██████▌                         | 245 kB 5.0 MB/s eta 0:00:01\r\u001b[K     |██████▊                         | 256 kB 5.0 MB/s eta 0:00:01\r\u001b[K     |███████                         | 266 kB 5.0 MB/s eta 0:00:01\r\u001b[K     |███████▎                        | 276 kB 5.0 MB/s eta 0:00:01\r\u001b[K     |███████▋                        | 286 kB 5.0 MB/s eta 0:00:01\r\u001b[K     |███████▉                        | 296 kB 5.0 MB/s eta 0:00:01\r\u001b[K     |████████                        | 307 kB 5.0 MB/s eta 0:00:01\r\u001b[K     |████████▍                       | 317 kB 5.0 MB/s eta 0:00:01\r\u001b[K     |████████▋                       | 327 kB 5.0 MB/s eta 0:00:01\r\u001b[K     |█████████                       | 337 kB 5.0 MB/s eta 0:00:01\r\u001b[K     |█████████▏                      | 348 kB 5.0 MB/s eta 0:00:01\r\u001b[K     |█████████▌                      | 358 kB 5.0 MB/s eta 0:00:01\r\u001b[K     |█████████▊                      | 368 kB 5.0 MB/s eta 0:00:01\r\u001b[K     |██████████                      | 378 kB 5.0 MB/s eta 0:00:01\r\u001b[K     |██████████▎                     | 389 kB 5.0 MB/s eta 0:00:01\r\u001b[K     |██████████▌                     | 399 kB 5.0 MB/s eta 0:00:01\r\u001b[K     |██████████▉                     | 409 kB 5.0 MB/s eta 0:00:01\r\u001b[K     |███████████                     | 419 kB 5.0 MB/s eta 0:00:01\r\u001b[K     |███████████▍                    | 430 kB 5.0 MB/s eta 0:00:01\r\u001b[K     |███████████▋                    | 440 kB 5.0 MB/s eta 0:00:01\r\u001b[K     |███████████▉                    | 450 kB 5.0 MB/s eta 0:00:01\r\u001b[K     |████████████▏                   | 460 kB 5.0 MB/s eta 0:00:01\r\u001b[K     |████████████▍                   | 471 kB 5.0 MB/s eta 0:00:01\r\u001b[K     |████████████▊                   | 481 kB 5.0 MB/s eta 0:00:01\r\u001b[K     |█████████████                   | 491 kB 5.0 MB/s eta 0:00:01\r\u001b[K     |█████████████▎                  | 501 kB 5.0 MB/s eta 0:00:01\r\u001b[K     |█████████████▌                  | 512 kB 5.0 MB/s eta 0:00:01\r\u001b[K     |█████████████▊                  | 522 kB 5.0 MB/s eta 0:00:01\r\u001b[K     |██████████████                  | 532 kB 5.0 MB/s eta 0:00:01\r\u001b[K     |██████████████▎                 | 542 kB 5.0 MB/s eta 0:00:01\r\u001b[K     |██████████████▋                 | 552 kB 5.0 MB/s eta 0:00:01\r\u001b[K     |██████████████▉                 | 563 kB 5.0 MB/s eta 0:00:01\r\u001b[K     |███████████████▏                | 573 kB 5.0 MB/s eta 0:00:01\r\u001b[K     |███████████████▍                | 583 kB 5.0 MB/s eta 0:00:01\r\u001b[K     |███████████████▋                | 593 kB 5.0 MB/s eta 0:00:01\r\u001b[K     |████████████████                | 604 kB 5.0 MB/s eta 0:00:01\r\u001b[K     |████████████████▏               | 614 kB 5.0 MB/s eta 0:00:01\r\u001b[K     |████████████████▌               | 624 kB 5.0 MB/s eta 0:00:01\r\u001b[K     |████████████████▊               | 634 kB 5.0 MB/s eta 0:00:01\r\u001b[K     |█████████████████               | 645 kB 5.0 MB/s eta 0:00:01\r\u001b[K     |█████████████████▎              | 655 kB 5.0 MB/s eta 0:00:01\r\u001b[K     |█████████████████▌              | 665 kB 5.0 MB/s eta 0:00:01\r\u001b[K     |█████████████████▉              | 675 kB 5.0 MB/s eta 0:00:01\r\u001b[K     |██████████████████              | 686 kB 5.0 MB/s eta 0:00:01\r\u001b[K     |██████████████████▍             | 696 kB 5.0 MB/s eta 0:00:01\r\u001b[K     |██████████████████▋             | 706 kB 5.0 MB/s eta 0:00:01\r\u001b[K     |███████████████████             | 716 kB 5.0 MB/s eta 0:00:01\r\u001b[K     |███████████████████▏            | 727 kB 5.0 MB/s eta 0:00:01\r\u001b[K     |███████████████████▍            | 737 kB 5.0 MB/s eta 0:00:01\r\u001b[K     |███████████████████▊            | 747 kB 5.0 MB/s eta 0:00:01\r\u001b[K     |████████████████████            | 757 kB 5.0 MB/s eta 0:00:01\r\u001b[K     |████████████████████▎           | 768 kB 5.0 MB/s eta 0:00:01\r\u001b[K     |████████████████████▌           | 778 kB 5.0 MB/s eta 0:00:01\r\u001b[K     |████████████████████▉           | 788 kB 5.0 MB/s eta 0:00:01\r\u001b[K     |█████████████████████           | 798 kB 5.0 MB/s eta 0:00:01\r\u001b[K     |█████████████████████▎          | 808 kB 5.0 MB/s eta 0:00:01\r\u001b[K     |█████████████████████▋          | 819 kB 5.0 MB/s eta 0:00:01\r\u001b[K     |█████████████████████▉          | 829 kB 5.0 MB/s eta 0:00:01\r\u001b[K     |██████████████████████▏         | 839 kB 5.0 MB/s eta 0:00:01\r\u001b[K     |██████████████████████▍         | 849 kB 5.0 MB/s eta 0:00:01\r\u001b[K     |██████████████████████▊         | 860 kB 5.0 MB/s eta 0:00:01\r\u001b[K     |███████████████████████         | 870 kB 5.0 MB/s eta 0:00:01\r\u001b[K     |███████████████████████▏        | 880 kB 5.0 MB/s eta 0:00:01\r\u001b[K     |███████████████████████▌        | 890 kB 5.0 MB/s eta 0:00:01\r\u001b[K     |███████████████████████▊        | 901 kB 5.0 MB/s eta 0:00:01\r\u001b[K     |████████████████████████        | 911 kB 5.0 MB/s eta 0:00:01\r\u001b[K     |████████████████████████▎       | 921 kB 5.0 MB/s eta 0:00:01\r\u001b[K     |████████████████████████▋       | 931 kB 5.0 MB/s eta 0:00:01\r\u001b[K     |████████████████████████▉       | 942 kB 5.0 MB/s eta 0:00:01\r\u001b[K     |█████████████████████████       | 952 kB 5.0 MB/s eta 0:00:01\r\u001b[K     |█████████████████████████▍      | 962 kB 5.0 MB/s eta 0:00:01\r\u001b[K     |█████████████████████████▋      | 972 kB 5.0 MB/s eta 0:00:01\r\u001b[K     |██████████████████████████      | 983 kB 5.0 MB/s eta 0:00:01\r\u001b[K     |██████████████████████████▏     | 993 kB 5.0 MB/s eta 0:00:01\r\u001b[K     |██████████████████████████▌     | 1.0 MB 5.0 MB/s eta 0:00:01\r\u001b[K     |██████████████████████████▊     | 1.0 MB 5.0 MB/s eta 0:00:01\r\u001b[K     |███████████████████████████     | 1.0 MB 5.0 MB/s eta 0:00:01\r\u001b[K     |███████████████████████████▎    | 1.0 MB 5.0 MB/s eta 0:00:01\r\u001b[K     |███████████████████████████▌    | 1.0 MB 5.0 MB/s eta 0:00:01\r\u001b[K     |███████████████████████████▉    | 1.1 MB 5.0 MB/s eta 0:00:01\r\u001b[K     |████████████████████████████    | 1.1 MB 5.0 MB/s eta 0:00:01\r\u001b[K     |████████████████████████████▍   | 1.1 MB 5.0 MB/s eta 0:00:01\r\u001b[K     |████████████████████████████▋   | 1.1 MB 5.0 MB/s eta 0:00:01\r\u001b[K     |████████████████████████████▉   | 1.1 MB 5.0 MB/s eta 0:00:01\r\u001b[K     |█████████████████████████████▏  | 1.1 MB 5.0 MB/s eta 0:00:01\r\u001b[K     |█████████████████████████████▍  | 1.1 MB 5.0 MB/s eta 0:00:01\r\u001b[K     |█████████████████████████████▊  | 1.1 MB 5.0 MB/s eta 0:00:01\r\u001b[K     |██████████████████████████████  | 1.1 MB 5.0 MB/s eta 0:00:01\r\u001b[K     |██████████████████████████████▎ | 1.1 MB 5.0 MB/s eta 0:00:01\r\u001b[K     |██████████████████████████████▌ | 1.2 MB 5.0 MB/s eta 0:00:01\r\u001b[K     |██████████████████████████████▊ | 1.2 MB 5.0 MB/s eta 0:00:01\r\u001b[K     |███████████████████████████████ | 1.2 MB 5.0 MB/s eta 0:00:01\r\u001b[K     |███████████████████████████████▎| 1.2 MB 5.0 MB/s eta 0:00:01\r\u001b[K     |███████████████████████████████▋| 1.2 MB 5.0 MB/s eta 0:00:01\r\u001b[K     |███████████████████████████████▉| 1.2 MB 5.0 MB/s eta 0:00:01\r\u001b[K     |████████████████████████████████| 1.2 MB 5.0 MB/s \n",
            "\u001b[?25hInstalling collected packages: sentencepiece\n",
            "Successfully installed sentencepiece-0.1.96\n"
          ]
        }
      ]
    },
    {
      "cell_type": "code",
      "metadata": {
        "id": "ApQ6Zhrqy5uZ"
      },
      "source": [
        "# mount\n",
        "from google.colab import drive\n",
        "drive.mount('/content/drive')"
      ],
      "execution_count": null,
      "outputs": []
    },
    {
      "cell_type": "code",
      "metadata": {
        "colab": {
          "base_uri": "https://localhost:8080/",
          "height": 597
        },
        "id": "sNi7vEnayttX",
        "outputId": "43e0fcb7-63dc-43d0-9912-2bab4575a108"
      },
      "source": [
        "# epoch 8\n",
        "import pandas as pd\n",
        "validation = pd.read_csv('/content/drive/MyDrive/3차 프로젝트/dataset/valid.csv')[['document','label']]\n",
        "validation.rename(columns = {'label':'Actual Text'}, inplace = True)\n",
        "df = pd.read_csv('/content/drive/MyDrive/3차 프로젝트/final_df_train240000(8) - final_df_train240000(8).csv', index_col=0).reset_index().drop('index', axis = 1)\n",
        "df = pd.merge(validation, df, on = 'Actual Text', how = 'inner')\n",
        "df"
      ],
      "execution_count": 8,
      "outputs": [
        {
          "output_type": "execute_result",
          "data": {
            "text/html": [
              "<div>\n",
              "<style scoped>\n",
              "    .dataframe tbody tr th:only-of-type {\n",
              "        vertical-align: middle;\n",
              "    }\n",
              "\n",
              "    .dataframe tbody tr th {\n",
              "        vertical-align: top;\n",
              "    }\n",
              "\n",
              "    .dataframe thead th {\n",
              "        text-align: right;\n",
              "    }\n",
              "</style>\n",
              "<table border=\"1\" class=\"dataframe\">\n",
              "  <thead>\n",
              "    <tr style=\"text-align: right;\">\n",
              "      <th></th>\n",
              "      <th>document</th>\n",
              "      <th>Actual Text</th>\n",
              "      <th>Generated Text</th>\n",
              "    </tr>\n",
              "  </thead>\n",
              "  <tbody>\n",
              "    <tr>\n",
              "      <th>0</th>\n",
              "      <td>사진=강다니엘 인스타그램가수 강다니엘이 악플러에 대한 고소장을 제출하며 강경대응을 ...</td>\n",
              "      <td>가수 강다니엘이 모욕죄 혐의로 악플러에 대한 고소장을 서울강남경찰서에 제출하며 합의...</td>\n",
              "      <td>채용 소속사인 커넥트엔터테인먼트가 19일 공식 홈페이지를 통해 가수 강다니엘이 악플...</td>\n",
              "    </tr>\n",
              "    <tr>\n",
              "      <th>1</th>\n",
              "      <td>2019 광주세계수영선수권대회에서 수구와 다이빙 등 12명의 여자선수들의 신체 일부...</td>\n",
              "      <td>2019 광주세계수영선수권대회에서 18일 일본인A씨가 12명의 여자선수들의 신체 일...</td>\n",
              "      <td>국제공항을 통해 출국을 하려다 긴급출국정지 조치로 일본으로 돌아가지 못하고, 수구와...</td>\n",
              "    </tr>\n",
              "    <tr>\n",
              "      <th>2</th>\n",
              "      <td>월요일 11시 00분 현재, 코스닥 상장사인 에이치엘비 종목은 작성시간기준(11시 ...</td>\n",
              "      <td>월요일 11시 00분 현재 조선업종 내 상승종목 등락률 1위를 차지한 에이치엘비종목...</td>\n",
              "      <td>업종 내 상위권을 차지하고 있는 종목들에 대해 살펴보면, 등락률 1위를 차지한 에이...</td>\n",
              "    </tr>\n",
              "    <tr>\n",
              "      <th>3</th>\n",
              "      <td>전 남편을 살해·유기한 혐의를 받는 고유정(36·구속기소)의 의붓아들 의문사 사건을...</td>\n",
              "      <td>경찰은 고유정을 살인과 과실치사 혐의로 각각 입건해 5개월이 넘는 수사와 전문가의 ...</td>\n",
              "      <td>살해 유기 혐의를 받고 있는 고유정의 의붓아들 의문사 사건을 수사한 경찰이 고씨와 ...</td>\n",
              "    </tr>\n",
              "    <tr>\n",
              "      <th>4</th>\n",
              "      <td>제주시 오라동과 서귀포시 서호동·강정동 관내 수도미터 계량기 1000전이 디지털 수...</td>\n",
              "      <td>25일 제주특별자치도는 서호동·강정동 관내 수도미터 계량기 1000전을 디지털 수도...</td>\n",
              "      <td>검침원이 방문하지 않고도 디지털 수도미터기 및 통신장비를 활용해 수도 사용량을 정확...</td>\n",
              "    </tr>\n",
              "    <tr>\n",
              "      <th>...</th>\n",
              "      <td>...</td>\n",
              "      <td>...</td>\n",
              "      <td>...</td>\n",
              "    </tr>\n",
              "    <tr>\n",
              "      <th>393</th>\n",
              "      <td>김대일천고마비의 계절 가을은 맑은 하늘과 선선한 날씨로 식도락 여행을 즐기기 딱 좋...</td>\n",
              "      <td>식도락 여행을 즐기기에 안성맞춤인 천고마비의 계절 가을에는 천혜의 자연 경관을 자랑...</td>\n",
              "      <td>선보이는 거제도의 전문 여행지 '강성횟집'은 돌멍게, 성게, 해삼, 전복 등 거제의...</td>\n",
              "    </tr>\n",
              "    <tr>\n",
              "      <th>394</th>\n",
              "      <td>간편가정식 상품시장이 3조원대에 이르면서 ‘간편식 밀리언셀러’ 상품이 속속 등장하고...</td>\n",
              "      <td>1인 가구 증가 등에 따른 혼밥 문화가 확산되면서 간편가정식 상품 판매량이 100만...</td>\n",
              "      <td>가정식 상품시장이 3조원대에 이르면서 최근 1인 가구 증가 등에 따른 혼밥 문화가 ...</td>\n",
              "    </tr>\n",
              "    <tr>\n",
              "      <th>395</th>\n",
              "      <td>박장미(동양일보 박장미 기자) 뮤지컬, 연극, 음악, 무용, 발레, 국악 등 다양한...</td>\n",
              "      <td>문화관광체육부에 따르면 개편된 공연전산망덕분에 공연정보와 관련 통계정보를 확인하기 ...</td>\n",
              "      <td>예술, 연극, 음악, 무용, 발레, 국악 등 다양한 문화예술 공연의 관람 정보를 영...</td>\n",
              "    </tr>\n",
              "    <tr>\n",
              "      <th>396</th>\n",
              "      <td>오창원'박항서 매직'의 베트남과 중국이 2019 아시아축구연맹(AFC)아시안컵에서 ...</td>\n",
              "      <td>베트남은 2019 아시아 축구연맹 아시안컵에서 요르단과 120분 연장 혈투 끝에 8...</td>\n",
              "      <td>의 베트남과 중국은 지난 20일 아랍에미리트 두바이의 알 막 확장 혈투 끝에 승부차...</td>\n",
              "    </tr>\n",
              "    <tr>\n",
              "      <th>397</th>\n",
              "      <td>‘동상이몽2’ 신동미 허규 누구SBS 제공배우 신동미-허규 부부의 결혼생활이 공개됐...</td>\n",
              "      <td>22일 동상이몽2-너는 내 운명에서는 신동미-허규 부부의 시댁살이와 내공이 엿보이는...</td>\n",
              "      <td>어키오와 밴드 활동, 각종 흥행 뮤지컬 활동을 병행하는 가수 겸 뮤지컬 배우 신동미...</td>\n",
              "    </tr>\n",
              "  </tbody>\n",
              "</table>\n",
              "<p>398 rows × 3 columns</p>\n",
              "</div>"
            ],
            "text/plain": [
              "                                              document  ...                                     Generated Text\n",
              "0    사진=강다니엘 인스타그램가수 강다니엘이 악플러에 대한 고소장을 제출하며 강경대응을 ...  ...  채용 소속사인 커넥트엔터테인먼트가 19일 공식 홈페이지를 통해 가수 강다니엘이 악플...\n",
              "1    2019 광주세계수영선수권대회에서 수구와 다이빙 등 12명의 여자선수들의 신체 일부...  ...  국제공항을 통해 출국을 하려다 긴급출국정지 조치로 일본으로 돌아가지 못하고, 수구와...\n",
              "2    월요일 11시 00분 현재, 코스닥 상장사인 에이치엘비 종목은 작성시간기준(11시 ...  ...  업종 내 상위권을 차지하고 있는 종목들에 대해 살펴보면, 등락률 1위를 차지한 에이...\n",
              "3    전 남편을 살해·유기한 혐의를 받는 고유정(36·구속기소)의 의붓아들 의문사 사건을...  ...  살해 유기 혐의를 받고 있는 고유정의 의붓아들 의문사 사건을 수사한 경찰이 고씨와 ...\n",
              "4    제주시 오라동과 서귀포시 서호동·강정동 관내 수도미터 계량기 1000전이 디지털 수...  ...  검침원이 방문하지 않고도 디지털 수도미터기 및 통신장비를 활용해 수도 사용량을 정확...\n",
              "..                                                 ...  ...                                                ...\n",
              "393  김대일천고마비의 계절 가을은 맑은 하늘과 선선한 날씨로 식도락 여행을 즐기기 딱 좋...  ...  선보이는 거제도의 전문 여행지 '강성횟집'은 돌멍게, 성게, 해삼, 전복 등 거제의...\n",
              "394  간편가정식 상품시장이 3조원대에 이르면서 ‘간편식 밀리언셀러’ 상품이 속속 등장하고...  ...  가정식 상품시장이 3조원대에 이르면서 최근 1인 가구 증가 등에 따른 혼밥 문화가 ...\n",
              "395  박장미(동양일보 박장미 기자) 뮤지컬, 연극, 음악, 무용, 발레, 국악 등 다양한...  ...  예술, 연극, 음악, 무용, 발레, 국악 등 다양한 문화예술 공연의 관람 정보를 영...\n",
              "396  오창원'박항서 매직'의 베트남과 중국이 2019 아시아축구연맹(AFC)아시안컵에서 ...  ...  의 베트남과 중국은 지난 20일 아랍에미리트 두바이의 알 막 확장 혈투 끝에 승부차...\n",
              "397  ‘동상이몽2’ 신동미 허규 누구SBS 제공배우 신동미-허규 부부의 결혼생활이 공개됐...  ...  어키오와 밴드 활동, 각종 흥행 뮤지컬 활동을 병행하는 가수 겸 뮤지컬 배우 신동미...\n",
              "\n",
              "[398 rows x 3 columns]"
            ]
          },
          "metadata": {},
          "execution_count": 8
        }
      ]
    },
    {
      "cell_type": "code",
      "metadata": {
        "id": "UTuTnTYPzRSH"
      },
      "source": [
        "# txt 파일로 저장\n",
        "df['Actual Text'].to_csv('actual_et5_epoch8.txt', header = 0, index = False)\n",
        "df['Generated Text'].to_csv('generated_et5_epoch8.txt', header = 0, index = False)\n",
        "df['document'].to_csv('document_et5_epoch8.txt', header = 0, index = False)"
      ],
      "execution_count": 6,
      "outputs": []
    },
    {
      "cell_type": "code",
      "metadata": {
        "colab": {
          "base_uri": "https://localhost:8080/",
          "height": 597
        },
        "id": "KSAOocn3zeYX",
        "outputId": "3726f7ab-df83-401d-99bc-f3f5d1fdde73"
      },
      "source": [
        "# epoch 3\n",
        "df1 = pd.read_csv('/content/drive/MyDrive/3차 프로젝트/dataset/etri_et5_(240000*3)_extra.csv', index_col=0).reset_index().drop('index', axis = 1)\n",
        "df1 = pd.merge(validation, df1, on = 'Actual Text', how = 'inner')[:500]\n",
        "df1"
      ],
      "execution_count": 13,
      "outputs": [
        {
          "output_type": "execute_result",
          "data": {
            "text/html": [
              "<div>\n",
              "<style scoped>\n",
              "    .dataframe tbody tr th:only-of-type {\n",
              "        vertical-align: middle;\n",
              "    }\n",
              "\n",
              "    .dataframe tbody tr th {\n",
              "        vertical-align: top;\n",
              "    }\n",
              "\n",
              "    .dataframe thead th {\n",
              "        text-align: right;\n",
              "    }\n",
              "</style>\n",
              "<table border=\"1\" class=\"dataframe\">\n",
              "  <thead>\n",
              "    <tr style=\"text-align: right;\">\n",
              "      <th></th>\n",
              "      <th>document</th>\n",
              "      <th>Actual Text</th>\n",
              "      <th>Generated Text</th>\n",
              "    </tr>\n",
              "  </thead>\n",
              "  <tbody>\n",
              "    <tr>\n",
              "      <th>0</th>\n",
              "      <td>사진=강다니엘 인스타그램가수 강다니엘이 악플러에 대한 고소장을 제출하며 강경대응을 ...</td>\n",
              "      <td>가수 강다니엘이 모욕죄 혐의로 악플러에 대한 고소장을 서울강남경찰서에 제출하며 합의...</td>\n",
              "      <td>엔터테인먼트는 소속 아티스트 관련 악성 게시물에 대해 어떠한 합의나 선처 없이 엄중...</td>\n",
              "    </tr>\n",
              "    <tr>\n",
              "      <th>1</th>\n",
              "      <td>2019 광주세계수영선수권대회에서 수구와 다이빙 등 12명의 여자선수들의 신체 일부...</td>\n",
              "      <td>2019 광주세계수영선수권대회에서 18일 일본인A씨가 12명의 여자선수들의 신체 일...</td>\n",
              "      <td>와 다이빙 등 12명의 여자선수의 신체 일부분을 불법 촬영한 일본인이 광주지방검찰청...</td>\n",
              "    </tr>\n",
              "    <tr>\n",
              "      <th>2</th>\n",
              "      <td>월요일 11시 00분 현재, 코스닥 상장사인 에이치엘비 종목은 작성시간기준(11시 ...</td>\n",
              "      <td>월요일 11시 00분 현재 조선업종 내 상승종목 등락률 1위를 차지한 에이치엘비종목...</td>\n",
              "      <td>업종업종 내 상위권을 차지하고 있는 종목들 중 등락률 1위를 차지한 에이치엘비종목의...</td>\n",
              "    </tr>\n",
              "    <tr>\n",
              "      <th>3</th>\n",
              "      <td>전 남편을 살해·유기한 혐의를 받는 고유정(36·구속기소)의 의붓아들 의문사 사건을...</td>\n",
              "      <td>경찰은 고유정을 살인과 과실치사 혐의로 각각 입건해 5개월이 넘는 수사와 전문가의 ...</td>\n",
              "      <td>고유정의 의붓아들 의문사 사건을 수사한 경찰이 고씨와 그의 현 남편 A씨를 의붓아들...</td>\n",
              "    </tr>\n",
              "    <tr>\n",
              "      <th>4</th>\n",
              "      <td>제주시 오라동과 서귀포시 서호동·강정동 관내 수도미터 계량기 1000전이 디지털 수...</td>\n",
              "      <td>25일 제주특별자치도는 서호동·강정동 관내 수도미터 계량기 1000전을 디지털 수도...</td>\n",
              "      <td>형 사물인터넷 기반을 활용한 스마트 원격검침 시스템에 제주시 오라동과 서귀포시 서호...</td>\n",
              "    </tr>\n",
              "    <tr>\n",
              "      <th>...</th>\n",
              "      <td>...</td>\n",
              "      <td>...</td>\n",
              "      <td>...</td>\n",
              "    </tr>\n",
              "    <tr>\n",
              "      <th>495</th>\n",
              "      <td>김주오컴포트 델그로사와 MOU내년까지 총 2천대 공급현대자동차가 싱가포르 친환경 택...</td>\n",
              "      <td>현대차는 싱가포르 최대 운수사업 그룹으로 싱가포르 택시의 60%를 보유하고 있는 컴...</td>\n",
              "      <td>자동차는 싱가포르의 컴포트 델그로사와 택시 공급 계약을 체결하고 내년까지 총 2천대...</td>\n",
              "    </tr>\n",
              "    <tr>\n",
              "      <th>496</th>\n",
              "      <td>양병채 기자진안군 부귀면 주민자치위원회(위원장 박영춘)가 최근 제18회 전국주민자치...</td>\n",
              "      <td>진안군 부귀면 주민자치위원회가 면민들이 자주 이용하는 거석공원을 직접 관리하면서 행...</td>\n",
              "      <td>박람회에서 진안군 부귀면 주민자치위원회가 1차 심사에 선정되었으며, 군은 전북의 자...</td>\n",
              "    </tr>\n",
              "    <tr>\n",
              "      <th>497</th>\n",
              "      <td>구리시는 최근 구리시경제인연합회와 전통시장상인회가 상생하는 구리 지역경제활성화사업 ...</td>\n",
              "      <td>구리시는 28일 기업체 대표 등 경제인 40여 명과 안승남 시장, 박석윤 시의회 의...</td>\n",
              "      <td>구경제인연합회와 전통시장상인회는 상생하는 구리 지역경제활성화사업 공동 협력을 위한 ...</td>\n",
              "    </tr>\n",
              "    <tr>\n",
              "      <th>498</th>\n",
              "      <td>박종대 기자수원시가 국제 사막화 방지 및 환경난민들의 일자리를 만들기 위한 몽골 ‘...</td>\n",
              "      <td>수원시는 몽골 '수원시민의 숲'에 9년간 10만 그루의 나무를 심는 등 성과를 보인...</td>\n",
              "      <td>시는 몽골 자연환경관광부와 협약을 체결하고 2020년까지 10년간 몽골 튜브아이막 ...</td>\n",
              "    </tr>\n",
              "    <tr>\n",
              "      <th>499</th>\n",
              "      <td>호주 건강기능식품 브랜드 Swisse(스위스)가 신제품 멀티비타민 '얼티네이탈(Ul...</td>\n",
              "      <td>호주 건강기능식품 브랜드 Swisse가 예비 부모의 건강한 임신과 출산을 위한 신제...</td>\n",
              "      <td>건강기능식품 브랜드 Swisse(스위스)가 임신 준비기부터 수유기까지 건강한 아기와...</td>\n",
              "    </tr>\n",
              "  </tbody>\n",
              "</table>\n",
              "<p>500 rows × 3 columns</p>\n",
              "</div>"
            ],
            "text/plain": [
              "                                              document  ...                                     Generated Text\n",
              "0    사진=강다니엘 인스타그램가수 강다니엘이 악플러에 대한 고소장을 제출하며 강경대응을 ...  ...  엔터테인먼트는 소속 아티스트 관련 악성 게시물에 대해 어떠한 합의나 선처 없이 엄중...\n",
              "1    2019 광주세계수영선수권대회에서 수구와 다이빙 등 12명의 여자선수들의 신체 일부...  ...  와 다이빙 등 12명의 여자선수의 신체 일부분을 불법 촬영한 일본인이 광주지방검찰청...\n",
              "2    월요일 11시 00분 현재, 코스닥 상장사인 에이치엘비 종목은 작성시간기준(11시 ...  ...  업종업종 내 상위권을 차지하고 있는 종목들 중 등락률 1위를 차지한 에이치엘비종목의...\n",
              "3    전 남편을 살해·유기한 혐의를 받는 고유정(36·구속기소)의 의붓아들 의문사 사건을...  ...  고유정의 의붓아들 의문사 사건을 수사한 경찰이 고씨와 그의 현 남편 A씨를 의붓아들...\n",
              "4    제주시 오라동과 서귀포시 서호동·강정동 관내 수도미터 계량기 1000전이 디지털 수...  ...  형 사물인터넷 기반을 활용한 스마트 원격검침 시스템에 제주시 오라동과 서귀포시 서호...\n",
              "..                                                 ...  ...                                                ...\n",
              "495  김주오컴포트 델그로사와 MOU내년까지 총 2천대 공급현대자동차가 싱가포르 친환경 택...  ...  자동차는 싱가포르의 컴포트 델그로사와 택시 공급 계약을 체결하고 내년까지 총 2천대...\n",
              "496  양병채 기자진안군 부귀면 주민자치위원회(위원장 박영춘)가 최근 제18회 전국주민자치...  ...  박람회에서 진안군 부귀면 주민자치위원회가 1차 심사에 선정되었으며, 군은 전북의 자...\n",
              "497  구리시는 최근 구리시경제인연합회와 전통시장상인회가 상생하는 구리 지역경제활성화사업 ...  ...  구경제인연합회와 전통시장상인회는 상생하는 구리 지역경제활성화사업 공동 협력을 위한 ...\n",
              "498  박종대 기자수원시가 국제 사막화 방지 및 환경난민들의 일자리를 만들기 위한 몽골 ‘...  ...  시는 몽골 자연환경관광부와 협약을 체결하고 2020년까지 10년간 몽골 튜브아이막 ...\n",
              "499  호주 건강기능식품 브랜드 Swisse(스위스)가 신제품 멀티비타민 '얼티네이탈(Ul...  ...  건강기능식품 브랜드 Swisse(스위스)가 임신 준비기부터 수유기까지 건강한 아기와...\n",
              "\n",
              "[500 rows x 3 columns]"
            ]
          },
          "metadata": {},
          "execution_count": 13
        }
      ]
    },
    {
      "cell_type": "code",
      "metadata": {
        "id": "vmWvva7hzetw"
      },
      "source": [
        "# txt 파일로 저장\n",
        "df1['Actual Text'].to_csv('actual_et5_epoch3.txt', header = 0, index = False)\n",
        "df1['Generated Text'].to_csv('generated_et5_epoch3.txt', header = 0, index = False)\n",
        "df1['document'].to_csv('document_et5_epoch3.txt', header = 0, index = False)"
      ],
      "execution_count": 14,
      "outputs": []
    },
    {
      "cell_type": "code",
      "metadata": {
        "colab": {
          "base_uri": "https://localhost:8080/",
          "height": 667
        },
        "id": "ES9T8nZD4QYl",
        "outputId": "317aa0bb-9a2d-4a4a-d776-aaff05f2f553"
      },
      "source": [
        "# epoch 3 / mt5-small\n",
        "df2 = pd.read_csv('/content/drive/MyDrive/cakd3_colab/3rd_project/mt5_small_data_240000_3.csv')\n",
        "validation = pd.read_csv('/content/drive/MyDrive/3차 프로젝트/dataset/extract_data/validation_data.csv')[['document','label']]\n",
        "validation.rename(columns = {'label':'Actual Text'}, inplace = True)\n",
        "df2 = pd.merge(validation, df2, on = 'Actual Text', how = 'inner')\n",
        "df2"
      ],
      "execution_count": 33,
      "outputs": [
        {
          "output_type": "stream",
          "name": "stderr",
          "text": [
            "/usr/local/lib/python3.7/dist-packages/pandas/core/frame.py:4308: SettingWithCopyWarning: \n",
            "A value is trying to be set on a copy of a slice from a DataFrame\n",
            "\n",
            "See the caveats in the documentation: https://pandas.pydata.org/pandas-docs/stable/user_guide/indexing.html#returning-a-view-versus-a-copy\n",
            "  errors=errors,\n"
          ]
        },
        {
          "output_type": "execute_result",
          "data": {
            "text/html": [
              "<div>\n",
              "<style scoped>\n",
              "    .dataframe tbody tr th:only-of-type {\n",
              "        vertical-align: middle;\n",
              "    }\n",
              "\n",
              "    .dataframe tbody tr th {\n",
              "        vertical-align: top;\n",
              "    }\n",
              "\n",
              "    .dataframe thead th {\n",
              "        text-align: right;\n",
              "    }\n",
              "</style>\n",
              "<table border=\"1\" class=\"dataframe\">\n",
              "  <thead>\n",
              "    <tr style=\"text-align: right;\">\n",
              "      <th></th>\n",
              "      <th>document</th>\n",
              "      <th>Actual Text</th>\n",
              "      <th>Generated Text</th>\n",
              "    </tr>\n",
              "  </thead>\n",
              "  <tbody>\n",
              "    <tr>\n",
              "      <th>0</th>\n",
              "      <td>지난달 《손 병장은 어떻게 군대에서 2000만원을 벌었을까》를 출간해 화제를 모으고...</td>\n",
              "      <td>지난달 《손 병장은 어떻게 군대에서 2000만원을 벌었을까》를 출간해 화제를 모으고...</td>\n",
              "      <td>없이 군 생활의 가치를 2000만원이라 생각해 책 제목을 그렇게 정했다.</td>\n",
              "    </tr>\n",
              "    <tr>\n",
              "      <th>1</th>\n",
              "      <td>가수 로이킴(본명 김상우·26)가 9일 새벽 기습입국한 것으로 알려졌다.뉴시스 보도...</td>\n",
              "      <td>정보통신망법상 음란물 유포 혐의를 받고 있는 로이킴이 지난 9일 기자들을 피해 새벽...</td>\n",
              "      <td>것으로 알려진 가수 로이킴(본명 김상우·25)가 9일 새벽 기습입국한 것으로 추정되...</td>\n",
              "    </tr>\n",
              "    <tr>\n",
              "      <th>2</th>\n",
              "      <td>] 한국거래소가 이르면 다음달부터 상장적격성 실질심사 의사록을 공개한다.상장기업의 ...</td>\n",
              "      <td>한국거래소가 상장기업의 존폐를 결정하는 실질심사 회의가 '깜깜이'로 진행되고 있다는...</td>\n",
              "      <td>심사를 통해 부실 상장기업을 퇴출시키기 위해 실질심사 제도가 도입된 지 10여 년 ...</td>\n",
              "    </tr>\n",
              "    <tr>\n",
              "      <th>3</th>\n",
              "      <td>그룹 블랙핑크의 코첼라 무대가 뉴욕 타임스 스퀘어에서 생중계된다.LA타임즈는 최근 ...</td>\n",
              "      <td>블랙핑크가 코첼라 페스티벌 공연이 타임스 스퀘어 전광판에 생중계될 상황에 대해 '꿈...</td>\n",
              "      <td>그룹 블랙핑크의 코첼라 무대가 뉴욕 타임스 스퀘어에서 생중계되며, 많은 뉴욕 시민들...</td>\n",
              "    </tr>\n",
              "    <tr>\n",
              "      <th>4</th>\n",
              "      <td>헌법재판소가 낙태죄에 헌법불합치 결정을 내린 데 대해 의료계는 대체로 환영하는 분위...</td>\n",
              "      <td>낙태죄에 대한 인식이 변하여 헌법불합치 결정이 된 것에 대해 의료계는 환영하였으나 ...</td>\n",
              "      <td>이유로 낙태를 허용하도록 헌법불합치 결정을 내린 것은 아쉽다며 의료계는 대체로 환영...</td>\n",
              "    </tr>\n",
              "    <tr>\n",
              "      <th>...</th>\n",
              "      <td>...</td>\n",
              "      <td>...</td>\n",
              "      <td>...</td>\n",
              "    </tr>\n",
              "    <tr>\n",
              "      <th>419</th>\n",
              "      <td>[헤럴드경제=최원혁 기자] 서울 강북구(구청장 박겸수)는 오는 7월6일 강북문화예술...</td>\n",
              "      <td>서울 강북구는 지역 주민들에게 유익한 정보를 제공하고 명사와의 만남을 통해 일상의 ...</td>\n",
              "      <td>배우인 오정혜 씨의 인문학 강의가 주말 오후 시간대인 토요일 오후 3시에 열린다.</td>\n",
              "    </tr>\n",
              "    <tr>\n",
              "      <th>420</th>\n",
              "      <td>위안부 피해 할머니에게 지급된 정부 지원금 2억여원을 빼돌린 혐의로 기소된 70대가...</td>\n",
              "      <td>위안부 피해 할머니에게 지급된 정부 지원금 2억여원을 빼돌린 횡령 혐의로 기소된 7...</td>\n",
              "      <td>이유로 위안부 피해자 이귀녀 할머니에게 지급된 정부 지원금 2억여원을 빼돌린 혐의로...</td>\n",
              "    </tr>\n",
              "    <tr>\n",
              "      <th>421</th>\n",
              "      <td>박성현(26)이 LPGA투어 월마트 NW 아카소 챔피언십에서 올시즌 18홀 최저타인...</td>\n",
              "      <td>한국시간으로 30일 미국 아칸소 주 로저스의 CC에서 열린 LPGA투어 월마트 NW...</td>\n",
              "      <td>뒤지지 않아 남은 이틀간 치열한 난타전이 예상된다.</td>\n",
              "    </tr>\n",
              "    <tr>\n",
              "      <th>422</th>\n",
              "      <td>사우디아라비아 투자청(SAGIA) 술탄 모프티(Sultan Mofti) 부청장이 지...</td>\n",
              "      <td>한국과 사우디 아라비아가 제2 중동붐을 일으키기 위해 체결한 MOU가운데, 바이오 ...</td>\n",
              "      <td>바이오-헬스-의약 분야가 4~6개를 차지하며 한국과 사우디아라비아 간 '비전 203...</td>\n",
              "    </tr>\n",
              "    <tr>\n",
              "      <th>423</th>\n",
              "      <td>경북 포항시가 시내버스 노선개편을 1년 뒤로 늦추기로 했다.시는 오는 7월 시내버스...</td>\n",
              "      <td>포항시는 오는 7월 당초 109개 노선 200대 운행에서 119개 노선 270대로 ...</td>\n",
              "      <td>없이 시내버스 노선 개편을 1년 뒤로 늦추기로 했으며, 박상구 포항시 대중교통과장은...</td>\n",
              "    </tr>\n",
              "  </tbody>\n",
              "</table>\n",
              "<p>424 rows × 3 columns</p>\n",
              "</div>"
            ],
            "text/plain": [
              "                                              document  ...                                     Generated Text\n",
              "0    지난달 《손 병장은 어떻게 군대에서 2000만원을 벌었을까》를 출간해 화제를 모으고...  ...           없이 군 생활의 가치를 2000만원이라 생각해 책 제목을 그렇게 정했다.\n",
              "1    가수 로이킴(본명 김상우·26)가 9일 새벽 기습입국한 것으로 알려졌다.뉴시스 보도...  ...  것으로 알려진 가수 로이킴(본명 김상우·25)가 9일 새벽 기습입국한 것으로 추정되...\n",
              "2    ] 한국거래소가 이르면 다음달부터 상장적격성 실질심사 의사록을 공개한다.상장기업의 ...  ...  심사를 통해 부실 상장기업을 퇴출시키기 위해 실질심사 제도가 도입된 지 10여 년 ...\n",
              "3    그룹 블랙핑크의 코첼라 무대가 뉴욕 타임스 스퀘어에서 생중계된다.LA타임즈는 최근 ...  ...  그룹 블랙핑크의 코첼라 무대가 뉴욕 타임스 스퀘어에서 생중계되며, 많은 뉴욕 시민들...\n",
              "4    헌법재판소가 낙태죄에 헌법불합치 결정을 내린 데 대해 의료계는 대체로 환영하는 분위...  ...  이유로 낙태를 허용하도록 헌법불합치 결정을 내린 것은 아쉽다며 의료계는 대체로 환영...\n",
              "..                                                 ...  ...                                                ...\n",
              "419  [헤럴드경제=최원혁 기자] 서울 강북구(구청장 박겸수)는 오는 7월6일 강북문화예술...  ...      배우인 오정혜 씨의 인문학 강의가 주말 오후 시간대인 토요일 오후 3시에 열린다.\n",
              "420  위안부 피해 할머니에게 지급된 정부 지원금 2억여원을 빼돌린 혐의로 기소된 70대가...  ...  이유로 위안부 피해자 이귀녀 할머니에게 지급된 정부 지원금 2억여원을 빼돌린 혐의로...\n",
              "421  박성현(26)이 LPGA투어 월마트 NW 아카소 챔피언십에서 올시즌 18홀 최저타인...  ...                       뒤지지 않아 남은 이틀간 치열한 난타전이 예상된다.\n",
              "422  사우디아라비아 투자청(SAGIA) 술탄 모프티(Sultan Mofti) 부청장이 지...  ...  바이오-헬스-의약 분야가 4~6개를 차지하며 한국과 사우디아라비아 간 '비전 203...\n",
              "423  경북 포항시가 시내버스 노선개편을 1년 뒤로 늦추기로 했다.시는 오는 7월 시내버스...  ...  없이 시내버스 노선 개편을 1년 뒤로 늦추기로 했으며, 박상구 포항시 대중교통과장은...\n",
              "\n",
              "[424 rows x 3 columns]"
            ]
          },
          "metadata": {},
          "execution_count": 33
        }
      ]
    },
    {
      "cell_type": "code",
      "metadata": {
        "id": "RhBT1w4P4Qni"
      },
      "source": [
        "# txt 파일로 저장\n",
        "df2['Actual Text'].to_csv('actual_mt5_epoch3.txt', header = 0, index = False)\n",
        "df2['Generated Text'].to_csv('generated_mt5_epoch3.txt', header = 0, index = False)\n",
        "df2['document'].to_csv('document_mt5_epoch3.txt', header = 0, index = False)"
      ],
      "execution_count": 34,
      "outputs": []
    },
    {
      "cell_type": "code",
      "metadata": {
        "colab": {
          "base_uri": "https://localhost:8080/"
        },
        "id": "pC3QD2qM0yAa",
        "outputId": "8cfcf5b7-893e-4662-a7e1-8ac2d081df04"
      },
      "source": [
        "# bert-score 옵션\n",
        "!bert-score -h"
      ],
      "execution_count": 17,
      "outputs": [
        {
          "output_type": "stream",
          "name": "stdout",
          "text": [
            "usage: Calculate BERTScore [-h] [--lang LANG] [-m MODEL] [-l NUM_LAYERS]\n",
            "                           [-b BATCH_SIZE] [--nthreads NTHREADS] [--idf]\n",
            "                           [--rescale_with_baseline]\n",
            "                           [--baseline_path BASELINE_PATH]\n",
            "                           [--use_fast_tokenizer] [-s] [-v] -r REF [REF ...]\n",
            "                           -c CAND\n",
            "\n",
            "optional arguments:\n",
            "  -h, --help            show this help message and exit\n",
            "  --lang LANG           two-letter abbreviation of the language (e.g., en) or\n",
            "                        \"en-sci\" for scientific text\n",
            "  -m MODEL, --model MODEL\n",
            "                        BERT model name (default: bert-base-uncased) or path\n",
            "                        to a pretrain model\n",
            "  -l NUM_LAYERS, --num_layers NUM_LAYERS\n",
            "                        use first N layer in BERT (default: 8)\n",
            "  -b BATCH_SIZE, --batch_size BATCH_SIZE\n",
            "                        batch size (default: 64)\n",
            "  --nthreads NTHREADS   number of cpu workers (default: 4)\n",
            "  --idf                 BERT Score with IDF scaling\n",
            "  --rescale_with_baseline\n",
            "                        Rescaling the numerical score with precomputed\n",
            "                        baselines\n",
            "  --baseline_path BASELINE_PATH\n",
            "                        path of custom baseline csv file\n",
            "  --use_fast_tokenizer  whether to use HF fast tokenizer\n",
            "  -s, --seg_level       show individual score of each pair\n",
            "  -v, --verbose         increase output verbosity\n",
            "  -r REF [REF ...], --ref REF [REF ...]\n",
            "                        reference file path(s) or a string\n",
            "  -c CAND, --cand CAND  candidate (system outputs) file path or a string\n"
          ]
        }
      ]
    },
    {
      "cell_type": "code",
      "metadata": {
        "colab": {
          "base_uri": "https://localhost:8080/"
        },
        "id": "sxy3Qlja5apP",
        "outputId": "4ffc473a-d47a-44d7-f5f8-d4a8bef63597"
      },
      "source": [
        "# epoch 3, mt5\n",
        "!bert-score -r document_mt5_epoch3.txt -c generated_mt5_epoch3.txt -m 'monologg/kobert' -l 12 --use_fast_tokenizer"
      ],
      "execution_count": 36,
      "outputs": [
        {
          "output_type": "stream",
          "name": "stdout",
          "text": [
            "monologg/kobert_L12_no-idf_version=0.3.10(hug_trans=4.12.5) P: 0.809469 R: 0.761297 F1: 0.784442\n"
          ]
        }
      ]
    },
    {
      "cell_type": "code",
      "metadata": {
        "colab": {
          "base_uri": "https://localhost:8080/"
        },
        "id": "ka34eE8kzXT9",
        "outputId": "d0cdf076-9ec3-4228-e0cc-13d0aa760089"
      },
      "source": [
        "# epoch 3, et5\n",
        "!bert-score -r document_et5_epoch3.txt -c generated_et5_epoch3.txt -m 'monologg/kobert' -l 12 --use_fast_tokenizer"
      ],
      "execution_count": 15,
      "outputs": [
        {
          "output_type": "stream",
          "name": "stdout",
          "text": [
            "monologg/kobert_L12_no-idf_version=0.3.10(hug_trans=4.12.5) P: 0.838023 R: 0.797487 F1: 0.817069\n"
          ]
        }
      ]
    },
    {
      "cell_type": "code",
      "metadata": {
        "colab": {
          "base_uri": "https://localhost:8080/"
        },
        "id": "h42BJHA80laC",
        "outputId": "2ffb7375-91f9-4a25-fd50-ae5a2d732cc2"
      },
      "source": [
        "# epoch 8, et5\n",
        "!bert-score -r document_et5_epoch8.txt -c generated_et5_epoch8.txt -m 'monologg/kobert' -l 12 --use_fast_tokenizer"
      ],
      "execution_count": 16,
      "outputs": [
        {
          "output_type": "stream",
          "name": "stdout",
          "text": [
            "monologg/kobert_L12_no-idf_version=0.3.10(hug_trans=4.12.5) P: 0.837293 R: 0.798238 F1: 0.817150\n"
          ]
        }
      ]
    }
  ]
}